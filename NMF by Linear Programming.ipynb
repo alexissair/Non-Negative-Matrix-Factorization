{
 "cells": [
  {
   "cell_type": "markdown",
   "metadata": {},
   "source": [
    "$$\\operatorname{minimize}_{C, Q} t^{T} \\operatorname{diag}(C) \\\\\n",
    "\\operatorname{subject to} \\begin{array}{l} {\\boldsymbol{C} \\boldsymbol{X}-\\boldsymbol{X}+\\boldsymbol{Q}=0} \\\\ {\\|\\boldsymbol{Q}\\|_{\\infty, 1} \\leq \\tau} \\\\ {\\boldsymbol{C} \\geq 0} \\\\ {\\operatorname{diag}(\\boldsymbol{C}) \\leq \\mathbf{1}} \\\\ {\\operatorname{Tr}(\\boldsymbol{C})=r} \\\\ {C_{i j} \\leq C_{j j} \\text { for all } i, j}\\end{array}$$\n"
   ]
  },
  {
   "cell_type": "code",
   "execution_count": 1,
   "metadata": {},
   "outputs": [],
   "source": [
    "import numpy as np\n",
    "from scipy.optimize import linprog"
   ]
  },
  {
   "cell_type": "code",
   "execution_count": 2,
   "metadata": {},
   "outputs": [],
   "source": [
    "f = 40\n",
    "r = 3\n",
    "n = 100"
   ]
  },
  {
   "cell_type": "code",
   "execution_count": 3,
   "metadata": {},
   "outputs": [],
   "source": [
    "F = np.random.random((f, r))\n",
    "W = np.random.random((r, n))\n",
    "X = F @ W"
   ]
  },
  {
   "cell_type": "code",
   "execution_count": 4,
   "metadata": {},
   "outputs": [],
   "source": [
    "def build_a_eq(X=X, f=f, n=n):\n",
    "    A = np.zeros((f*n + 1, f**2))\n",
    "    for i in range(f):\n",
    "        # Handle CX = X\n",
    "        A[i*n:(i+1)*n, i*f:(i+1)*f] = X.T\n",
    "        # Handle Tr(C) = r\n",
    "        A[-1, i*(f+1)] = 1\n",
    "    return A"
   ]
  },
  {
   "cell_type": "code",
   "execution_count": 5,
   "metadata": {},
   "outputs": [],
   "source": [
    "def build_b_eq(X=X, r=r):\n",
    "    b = np.zeros((f*n+1,))\n",
    "    # Handle CX = X\n",
    "    b[:-1] = X.flatten()\n",
    "    # Handle Tr(C) = r\n",
    "    b[-1] = r\n",
    "    return b"
   ]
  },
  {
   "cell_type": "code",
   "execution_count": 6,
   "metadata": {},
   "outputs": [],
   "source": [
    "def check_ab_eq(A, b, c, X=X, r=r):\n",
    "    res_1 = (A @ c - b).sum()\n",
    "    res_2 = (c.reshape(f, f) @ X - X).sum() + np.trace(c.reshape(f, f)) - r\n",
    "    return  res_1 - res_2 < 1e-5"
   ]
  },
  {
   "cell_type": "code",
   "execution_count": 7,
   "metadata": {},
   "outputs": [],
   "source": [
    "def build_a_ub(X=X, f=f, n=n):\n",
    "    A = np.zeros((f**2, f**2))\n",
    "    index_A = 0\n",
    "    # Handle diag(C) <= 1\n",
    "    for i in range(f):\n",
    "        A[i, i*(f+1)] = 1\n",
    "        index_A += 1\n",
    "        \n",
    "    # Handle C_ij <= C_jj  \n",
    "    for j in range(f):\n",
    "        for i in range(f):\n",
    "            if i == j:\n",
    "                continue\n",
    "            C = np.zeros((f, f))\n",
    "            C[j, j] = -1\n",
    "            C[i, j] = 1\n",
    "            A[index_A, :] = C.flatten()\n",
    "            index_A += 1\n",
    "    return A"
   ]
  },
  {
   "cell_type": "code",
   "execution_count": 8,
   "metadata": {},
   "outputs": [],
   "source": [
    "def build_b_ub(f=f):\n",
    "    b = np.zeros(f**2)\n",
    "    b[:f] += 1\n",
    "    return b"
   ]
  },
  {
   "cell_type": "code",
   "execution_count": 9,
   "metadata": {},
   "outputs": [],
   "source": [
    "A_eq = build_a_eq()\n",
    "b_eq = build_b_eq()"
   ]
  },
  {
   "cell_type": "code",
   "execution_count": 10,
   "metadata": {},
   "outputs": [],
   "source": [
    "A_ub = build_a_ub()\n",
    "b_ub = build_b_ub()"
   ]
  },
  {
   "cell_type": "code",
   "execution_count": 11,
   "metadata": {},
   "outputs": [],
   "source": [
    "t = (np.random.random((f, f)) * np.eye(f)).flatten()"
   ]
  },
  {
   "cell_type": "code",
   "execution_count": null,
   "metadata": {},
   "outputs": [
    {
     "name": "stderr",
     "output_type": "stream",
     "text": [
      "/Users/antoine/Documents/master-datascience/Non-Negative-Matrix-Factorization/env/lib/python3.6/site-packages/scipy/optimize/_linprog_util.py:704: OptimizeWarning: A_eq does not appear to be of full row rank. To improve performance, check the problem formulation for redundant equality constraints.\n",
      "  warn(redundancy_warning, OptimizeWarning)\n"
     ]
    }
   ],
   "source": [
    "opt = linprog(t, method='simplex', A_eq=A_eq, b_eq=b_eq, A_ub=A_ub, b_ub=b_ub)"
   ]
  },
  {
   "cell_type": "code",
   "execution_count": null,
   "metadata": {},
   "outputs": [],
   "source": [
    "opt"
   ]
  },
  {
   "cell_type": "code",
   "execution_count": null,
   "metadata": {},
   "outputs": [],
   "source": [
    "res = opt.x.reshape(f, f)"
   ]
  },
  {
   "cell_type": "code",
   "execution_count": null,
   "metadata": {},
   "outputs": [],
   "source": [
    "res"
   ]
  },
  {
   "cell_type": "code",
   "execution_count": null,
   "metadata": {},
   "outputs": [],
   "source": []
  }
 ],
 "metadata": {
  "kernelspec": {
   "display_name": "nmf",
   "language": "python",
   "name": "nmf"
  },
  "language_info": {
   "codemirror_mode": {
    "name": "ipython",
    "version": 3
   },
   "file_extension": ".py",
   "mimetype": "text/x-python",
   "name": "python",
   "nbconvert_exporter": "python",
   "pygments_lexer": "ipython3",
   "version": "3.6.8"
  }
 },
 "nbformat": 4,
 "nbformat_minor": 2
}
