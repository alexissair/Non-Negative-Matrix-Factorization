{
 "cells": [
  {
   "cell_type": "code",
   "execution_count": 1,
   "metadata": {},
   "outputs": [],
   "source": [
    "%load_ext autoreload\n",
    "%autoreload 2"
   ]
  },
  {
   "cell_type": "markdown",
   "metadata": {},
   "source": [
    "$$\\operatorname{minimize}_{C, Q} t^{T} \\operatorname{diag}(C) \\\\\n",
    "\\operatorname{subject to} \\begin{array}{l} {\\boldsymbol{C} \\boldsymbol{X}-\\boldsymbol{X}+\\boldsymbol{Q}=0} \\\\ {\\|\\boldsymbol{Q}\\|_{\\infty, 1} \\leq \\tau} \\\\ {\\boldsymbol{C} \\geq 0} \\\\ {\\operatorname{diag}(\\boldsymbol{C}) \\leq \\mathbf{1}} \\\\ {\\operatorname{Tr}(\\boldsymbol{C})=r} \\\\ {C_{i j} \\leq C_{j j} \\text { for all } i, j}\\end{array}$$\n"
   ]
  },
  {
   "cell_type": "code",
   "execution_count": 60,
   "metadata": {},
   "outputs": [],
   "source": [
    "import numpy as np\n",
    "from scipy.optimize import linprog"
   ]
  },
  {
   "cell_type": "code",
   "execution_count": 84,
   "metadata": {},
   "outputs": [],
   "source": [
    "f = 20\n",
    "r = 5\n",
    "n = 100"
   ]
  },
  {
   "cell_type": "code",
   "execution_count": 85,
   "metadata": {},
   "outputs": [],
   "source": [
    "from simplex_nmf import SimplexNMF"
   ]
  },
  {
   "cell_type": "code",
   "execution_count": 86,
   "metadata": {},
   "outputs": [],
   "source": [
    "simplex = SimplexNMF(f=f, r=r, n=n)"
   ]
  },
  {
   "cell_type": "code",
   "execution_count": 87,
   "metadata": {},
   "outputs": [
    {
     "name": "stderr",
     "output_type": "stream",
     "text": [
      "/Users/antoine/Documents/master-datascience/Non-Negative-Matrix-Factorization/env/lib/python3.6/site-packages/scipy/optimize/_linprog_simplex.py:201: OptimizeWarning: The pivot operation produces a pivot value of: 2.0e-12, which is only slightly greater than the specified tolerance 1.0e-12. This may lead to issues regarding the numerical stability of the simplex method. Removing redundant constraints, changing the pivot strategy via Bland's rule or increasing the tolerance may help reduce the issue.\n",
      "  warn(message, OptimizeWarning)\n",
      "/Users/antoine/Documents/master-datascience/Non-Negative-Matrix-Factorization/env/lib/python3.6/site-packages/scipy/optimize/_linprog_simplex.py:201: OptimizeWarning: The pivot operation produces a pivot value of: 1.1e-12, which is only slightly greater than the specified tolerance 1.0e-12. This may lead to issues regarding the numerical stability of the simplex method. Removing redundant constraints, changing the pivot strategy via Bland's rule or increasing the tolerance may help reduce the issue.\n",
      "  warn(message, OptimizeWarning)\n",
      "/Users/antoine/Documents/master-datascience/Non-Negative-Matrix-Factorization/env/lib/python3.6/site-packages/scipy/optimize/_linprog_simplex.py:201: OptimizeWarning: The pivot operation produces a pivot value of: 6.3e-12, which is only slightly greater than the specified tolerance 1.0e-12. This may lead to issues regarding the numerical stability of the simplex method. Removing redundant constraints, changing the pivot strategy via Bland's rule or increasing the tolerance may help reduce the issue.\n",
      "  warn(message, OptimizeWarning)\n",
      "/Users/antoine/Documents/master-datascience/Non-Negative-Matrix-Factorization/env/lib/python3.6/site-packages/scipy/optimize/_linprog_simplex.py:201: OptimizeWarning: The pivot operation produces a pivot value of: 3.0e-12, which is only slightly greater than the specified tolerance 1.0e-12. This may lead to issues regarding the numerical stability of the simplex method. Removing redundant constraints, changing the pivot strategy via Bland's rule or increasing the tolerance may help reduce the issue.\n",
      "  warn(message, OptimizeWarning)\n"
     ]
    },
    {
     "name": "stdout",
     "output_type": "stream",
     "text": [
      "||CX - X|| = 0.007651151337110634\n",
      "diag(C) = [ 1.56738610e-01  1.37949998e-15  7.02236308e-01  9.25776497e-01\n",
      "  9.30520301e-19  3.24269881e-02  5.07943939e-01  3.63501287e-16\n",
      " -8.87912767e-21  0.00000000e+00  0.00000000e+00  8.06636502e-16\n",
      "  5.27108610e-01  1.70122516e-01  5.67285627e-01  2.88714541e-01\n",
      "  0.00000000e+00  1.06771179e-01 -9.50154537e-31  1.00000000e+00]\n",
      "||FW - X|| = 0.06220965304874494\n"
     ]
    },
    {
     "name": "stderr",
     "output_type": "stream",
     "text": [
      "/Users/antoine/Documents/master-datascience/Non-Negative-Matrix-Factorization/env/lib/python3.6/site-packages/scipy/optimize/_linprog_simplex.py:201: OptimizeWarning: The pivot operation produces a pivot value of: 1.3e-11, which is only slightly greater than the specified tolerance 1.0e-12. This may lead to issues regarding the numerical stability of the simplex method. Removing redundant constraints, changing the pivot strategy via Bland's rule or increasing the tolerance may help reduce the issue.\n",
      "  warn(message, OptimizeWarning)\n",
      "/Users/antoine/Documents/master-datascience/Non-Negative-Matrix-Factorization/env/lib/python3.6/site-packages/scipy/optimize/_linprog_simplex.py:201: OptimizeWarning: The pivot operation produces a pivot value of: 1.9e-12, which is only slightly greater than the specified tolerance 1.0e-12. This may lead to issues regarding the numerical stability of the simplex method. Removing redundant constraints, changing the pivot strategy via Bland's rule or increasing the tolerance may help reduce the issue.\n",
      "  warn(message, OptimizeWarning)\n"
     ]
    }
   ],
   "source": [
    "simplex.run()"
   ]
  },
  {
   "cell_type": "code",
   "execution_count": null,
   "metadata": {},
   "outputs": [],
   "source": []
  }
 ],
 "metadata": {
  "kernelspec": {
   "display_name": "nmf",
   "language": "python",
   "name": "nmf"
  },
  "language_info": {
   "codemirror_mode": {
    "name": "ipython",
    "version": 3
   },
   "file_extension": ".py",
   "mimetype": "text/x-python",
   "name": "python",
   "nbconvert_exporter": "python",
   "pygments_lexer": "ipython3",
   "version": "3.6.8"
  }
 },
 "nbformat": 4,
 "nbformat_minor": 2
}
